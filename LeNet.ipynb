{
 "cells": [
  {
   "cell_type": "code",
   "execution_count": 21,
   "metadata": {},
   "outputs": [],
   "source": [
    "import numpy as np\n",
    "import matplotlib.pyplot as plt\n",
    "#Convolutional layers should be NCHW (Number of outputs, Number of Channels, Height of Weights, Width of Weights)\n",
    "\n",
    "def sigmoid(x):\n",
    "    \n",
    "    return 1/(1+np.exp(-1*x))\n",
    "\n",
    "def sigmoid_grad(x):\n",
    "    \n",
    "    return np.multiply(x,(1.0-x))\n",
    "\n",
    "class conv2d:\n",
    "    \n",
    "    def __init__(self,input_dim,output_channels,filter_dim,pad=False,stride=1,activation=True):\n",
    "        \n",
    "        self.weights = np.random.randn(output_channels, input_dim[0], filter_dim[0], filter_dim[1])\n",
    "        #self.weights = np.ones((output_channels, input_dim[0], filter_dim[0], filter_dim[1]))\n",
    "        self.bias = np.zeros((output_channels))\n",
    "        self.inputs = np.zeros(input_dim)\n",
    "        \n",
    "        self.weight_gradient = np.zeros_like(self.weights)\n",
    "        self.bias_gradient = np.zeros_like(self.bias) \n",
    "        \n",
    "        if(pad==True):\n",
    "            self.padding = (input_dim[1]*(stride-1) - stride + filter_dim[0])\n",
    "            self.gradient = np.pad(self.inputs,((0,0),(self.padding//2,self.padding//2),(self.padding//2,self.padding//2)),'constant')\n",
    "        else:\n",
    "            self.padding = 0 \n",
    "            self.gradient = np.zeros_like(self.inputs)\n",
    "        \n",
    "\n",
    "        out_dim = (input_dim[1] - filter_dim[0] + self.padding)//stride + 1\n",
    "        self.outputs = np.zeros((output_channels, out_dim, out_dim))\n",
    "        \n",
    "        self.stride = stride\n",
    "        \n",
    "        if(activation==True):\n",
    "            self.activate = True\n",
    "        else:\n",
    "            self.activate = False  \n",
    "            \n",
    "    def cnn(self, input):\n",
    "        channels, input_h, input_w = input.shape\n",
    "        outputs, channels, filter_h, filter_w = self.weights.shape\n",
    "        \n",
    "        if(self.padding!=0):\n",
    "            new_input = np.pad(input,((0,0),(self.padding//2,self.padding//2),(self.padding//2,self.padding//2)),'constant') \n",
    "        \n",
    "            out_w = (input_w - filter_w + self.padding)//self.stride + 1\n",
    "            out_h = (input_h - filter_h + self.padding)//self.stride + 1\n",
    "    \n",
    "        else:\n",
    "            new_input = input\n",
    "            out_w = (input_w - filter_w)//self.stride + 1\n",
    "            out_h = (input_h - filter_h)//self.stride + 1\n",
    "        \n",
    "        self.inputs = new_input\n",
    "        \n",
    "        for k in range(outputs):\n",
    "            for i in range(out_h):\n",
    "                for j in range(out_w):\n",
    "                    self.outputs[k,i,j] = np.sum(np.multiply\n",
    "                                                    (self.inputs[:,i*self.stride:i*self.stride+filter_h,\n",
    "                                                                j*self.stride:j*self.stride+filter_w],\n",
    "                                                    self.weights[k]))\n",
    "                        \n",
    "            self.outputs[k,:,:]+=self.bias[k]\n",
    "    \n",
    "    def forward(self,new_input):\n",
    "        \n",
    "        self.cnn(new_input)\n",
    "        \n",
    "        if(self.activate==True):\n",
    "            self.outputs = sigmoid(self.outputs)\n",
    "        \n",
    "        return self.outputs\n",
    "    \n",
    "    \n",
    "    def backprop(self,gradient,lr=0.01):\n",
    "        \n",
    "        channels, input_h, input_w = self.inputs.shape\n",
    "        outputs, channels, filter_h, filter_w = self.weights.shape\n",
    "        outputs, out_h, out_w = gradient.shape\n",
    "        \n",
    "        if(self.activate==True):\n",
    "            gradient = np.multiply(gradient,sigmoid_grad(self.outputs))\n",
    "        \n",
    "        for k in range(outputs):\n",
    "            self.bias_gradient[k] = np.sum(gradient[k,:,:]) \n",
    "        \n",
    "        \n",
    "        for k in range(outputs):\n",
    "            for l in range(channels):\n",
    "                for i in range(filter_h):\n",
    "                    for j in range(filter_w):\n",
    "                        self.weight_gradient[k,l,i,j] = np.sum(np.multiply\n",
    "                                                                (self.inputs[l,i*self.stride:i*self.stride+out_h,\n",
    "                                                                       j*self.stride:j*self.stride+out_w],\n",
    "                                                             gradient[k,:,:]))\n",
    "        \n",
    "        new_weights = np.zeros_like(self.weights) \n",
    "        for i in range(filter_h):\n",
    "            for j in range(filter_w):\n",
    "                new_weights[:,:,i,j]=self.weights[:,:,filter_h-i-1,filter_w-j-1]\n",
    "\n",
    "\n",
    "        padding = (self.inputs.shape[1]-1)*self.stride - gradient.shape[1] + new_weights.shape[2]\n",
    "        if(padding!=0):\n",
    "            padded_gradient = np.pad(gradient,((0,0),(padding//2,padding//2),\n",
    "                                      (padding//2,padding//2)),'constant')\n",
    "        else:\n",
    "            padded_gradient = gradient.copy()\n",
    "        for k in range(channels):\n",
    "                for i in range(input_h):\n",
    "                    for j in range(input_w):\n",
    "                        self.gradient[k,i,j] = np.sum(np.multiply\n",
    "                                                                (padded_gradient[:,i*self.stride:i*self.stride+filter_h,\n",
    "                                                                       j*self.stride:j*self.stride+filter_w],\n",
    "                                                             new_weights[:,k,:,:]))\n",
    "                        \n",
    "        self.weights -= lr*self.weight_gradient\n",
    "        self.bias -= lr*self.bias_gradient\n",
    "        \n",
    "        if(self.padding!=0):\n",
    "            return self.gradient[:,self.padding//2:-self.padding//2,self.padding//2:-self.padding//2]\n",
    "        else:\n",
    "            return self.gradient\n",
    "        \n",
    "        \n",
    "class fc:\n",
    "    \n",
    "    def __init__(self,inputs,output,activation=True):\n",
    "        \n",
    "        self.weights = np.random.randn(output,inputs)\n",
    "        self.bias = np.zeros(output)\n",
    "        self.inputs = np.zeros(inputs)\n",
    "        self.outputs = np.zeros(output)\n",
    "        self.activate = False\n",
    "        \n",
    "        if(activation==True):\n",
    "            self.activate = True\n",
    "    \n",
    "    def forward(self,new_input):\n",
    "        self.inputs = new_input\n",
    "        self.outputs = np.add(np.matmul((self.weights),new_input),self.bias)\n",
    "        \n",
    "        if(self.activate==True):\n",
    "            self.outputs = sigmoid(self.outputs)\n",
    "        \n",
    "        return self.outputs\n",
    "    \n",
    "    def backprop(self,gradient,lr=0.01):\n",
    "        \n",
    "        if(self.activate==True):\n",
    "            gradient = np.multiply(gradient,sigmoid_grad(self.outputs))\n",
    "        \n",
    "        gradient_weights = np.matmul(gradient.reshape(gradient.shape[0],1),\n",
    "                                     (self.inputs).reshape(1,(self.inputs).shape[0]))\n",
    "        gradient_bias = gradient\n",
    "        \n",
    "        \n",
    "        output_gradient = np.matmul((self.weights).T,gradient)\n",
    "        self.weights -= lr*gradient_weights\n",
    "        self.bias -= lr*gradient_bias\n",
    "        \n",
    "    \n",
    "        return output_gradient\n",
    "\n",
    "class max_pool:\n",
    "    \n",
    "    def __init__(self,inputs_dim,pool_param,stride):\n",
    "        \n",
    "        self.inputs_dim = inputs_dim \n",
    "        self.pool_height,self.pool_width = pool_param\n",
    "        self.stride = stride\n",
    "        self.input = None\n",
    "\n",
    "    def forward(self,x):\n",
    "    \n",
    "        C, H, W = self.inputs_dim\n",
    "    \n",
    "        W_P = self.pool_width\n",
    "        \n",
    "        H_P = self.pool_height\n",
    "    \n",
    "        self.input = x\n",
    "        \n",
    "        stride = self.stride\n",
    "        \n",
    "        HH = 1 + (H - H_P)//stride\n",
    "        WW = 1 + (W - W_P)//stride\n",
    "    \n",
    "        out = np.zeros((C, HH, WW))\n",
    "    \n",
    "        for depth in range(C):\n",
    "            for r in range(0,H,stride):\n",
    "                for c in range(0,W,stride):\n",
    "                \n",
    "                    out[depth,r//stride,c//stride] = np.max(x[depth,r:r+H_P,c:c+W_P])\n",
    "    \n",
    "        return out\n",
    "\n",
    "    def backprop(self,dout):\n",
    "    \n",
    "        C, H, W = self.inputs_dim\n",
    "    \n",
    "        CC,HH,WW = dout.shape\n",
    "        \n",
    "        W_P = self.pool_width\n",
    "        \n",
    "        H_P = self.pool_height  \n",
    "        \n",
    "        stride = self.stride\n",
    "        \n",
    "        dx = None\n",
    "        dx = np.zeros(self.inputs_dim)\n",
    "    \n",
    "        for depth in range(C):\n",
    "            for r in range(HH):\n",
    "                for c in range(WW):\n",
    "                \n",
    "                    x_pool = self.input[depth,r*stride:r*stride+H_P,c*stride:c*stride+W_P]\n",
    "                \n",
    "                    mask = (x_pool == np.max(x_pool))\n",
    "                \n",
    "                    dx[depth,r*stride:r*stride+H_P,c*stride:c*stride+W_P] = mask * dout[depth,r,c] \n",
    "    \n",
    "        return dx"
   ]
  },
  {
   "cell_type": "code",
   "execution_count": 22,
   "metadata": {},
   "outputs": [],
   "source": [
    "train_imgs = np.load('train_imgs.npy')\n",
    "test_imgs = np.load('test_imgs.npy')\n",
    "\n",
    "train_labels = np.load('train_labels.npy')\n",
    "test_labels = np.load('test_labels.npy')\n",
    "\n",
    "train_imgs = train_imgs.reshape((train_imgs.shape[0],1,28,28))\n",
    "train_imgs = np.pad(train_imgs,((0,0),(0,0),(2,2),(2,2)),'constant')\n",
    "\n",
    "test_imgs = test_imgs.reshape((test_imgs.shape[0],1,28,28))\n",
    "test_imgs = np.pad(test_imgs,((0,0),(0,0),(2,2),(2,2)),'constant')"
   ]
  },
  {
   "cell_type": "code",
   "execution_count": 25,
   "metadata": {},
   "outputs": [
    {
     "name": "stdout",
     "output_type": "stream",
     "text": [
      "5\n"
     ]
    },
    {
     "data": {
      "image/png": "[encoded data removed]",
      "text/plain": [
       "<Figure size 432x288 with 1 Axes>"
      ]
     },
     "metadata": {
      "needs_background": "light"
     },
     "output_type": "display_data"
    },
    {
     "name": "stdout",
     "output_type": "stream",
     "text": [
      "0\n"
     ]
    },
    {
     "data": {
      "image/png": "[encoded data removed]",
      "text/plain": [
       "<Figure size 432x288 with 1 Axes>"
      ]
     },
     "metadata": {
      "needs_background": "light"
     },
     "output_type": "display_data"
    },
    {
     "name": "stdout",
     "output_type": "stream",
     "text": [
      "4\n"
     ]
    },
    {
     "data": {
      "image/png": "[encoded data removed]",
      "text/plain": [
       "<Figure size 432x288 with 1 Axes>"
      ]
     },
     "metadata": {
      "needs_background": "light"
     },
     "output_type": "display_data"
    },
    {
     "name": "stdout",
     "output_type": "stream",
     "text": [
      "1\n"
     ]
    },
    {
     "data": {
      "image/png": "[encoded data removed]",
      "text/plain": [
       "<Figure size 432x288 with 1 Axes>"
      ]
     },
     "metadata": {
      "needs_background": "light"
     },
     "output_type": "display_data"
    },
    {
     "name": "stdout",
     "output_type": "stream",
     "text": [
      "9\n"
     ]
    },
    {
     "data": {
      "image/png": "[encoded data removed]",
      "text/plain": [
       "<Figure size 432x288 with 1 Axes>"
      ]
     },
     "metadata": {
      "needs_background": "light"
     },
     "output_type": "display_data"
    },
    {
     "name": "stdout",
     "output_type": "stream",
     "text": [
      "2\n"
     ]
    },
    {
     "data": {
      "image/png": "[encoded data removed]",
      "text/plain": [
       "<Figure size 432x288 with 1 Axes>"
      ]
     },
     "metadata": {
      "needs_background": "light"
     },
     "output_type": "display_data"
    },
    {
     "name": "stdout",
     "output_type": "stream",
     "text": [
      "1\n"
     ]
    },
    {
     "data": {
      "image/png": "[encoded data removed]",
      "text/plain": [
       "<Figure size 432x288 with 1 Axes>"
      ]
     },
     "metadata": {
      "needs_background": "light"
     },
     "output_type": "display_data"
    },
    {
     "name": "stdout",
     "output_type": "stream",
     "text": [
      "3\n"
     ]
    },
    {
     "data": {
      "image/png": "[encoded data removed]",
      "text/plain": [
       "<Figure size 432x288 with 1 Axes>"
      ]
     },
     "metadata": {
      "needs_background": "light"
     },
     "output_type": "display_data"
    },
    {
     "name": "stdout",
     "output_type": "stream",
     "text": [
      "1\n"
     ]
    },
    {
     "data": {
      "image/png": "[encoded data removed]",
      "text/plain": [
       "<Figure size 432x288 with 1 Axes>"
      ]
     },
     "metadata": {
      "needs_background": "light"
     },
     "output_type": "display_data"
    },
    {
     "name": "stdout",
     "output_type": "stream",
     "text": [
      "4\n"
     ]
    },
    {
     "data": {
      "image/png": "[encoded data removed]",
      "text/plain": [
       "<Figure size 432x288 with 1 Axes>"
      ]
     },
     "metadata": {
      "needs_background": "light"
     },
     "output_type": "display_data"
    }
   ],
   "source": [
    "for i in range(10):\n",
    "    plt.imshow(train_imgs[i,0])\n",
    "    print(int(train_labels[i]))\n",
    "    plt.show()"
   ]
  },
  {
   "cell_type": "code",
   "execution_count": null,
   "metadata": {},
   "outputs": [
    {
     "name": "stdout",
     "output_type": "stream",
     "text": [
      "0.8655052962993641\n",
      "0.9185421395081287\n",
      "0.653486716041207\n",
      "0.9348619544051833\n",
      "0.7561483286788436\n",
      "0.8076153155902341\n",
      "0.8838259072380593\n",
      "0.792160238189513\n",
      "0.769674544087823\n",
      "0.7918177749244996\n",
      "0.8220094826736398\n",
      "0.7786393616784006\n",
      "0.7600990244413002\n"
     ]
    }
   ],
   "source": [
    "conv1 = conv2d([1, 32, 32], 6, [5,5])\n",
    "max1 = max_pool([6, 28, 28], [2,2], 2)\n",
    "conv2 = conv2d([6, 14, 14], 16, [5,5])\n",
    "max2 = max_pool([16, 10, 10], [2,2], 2)\n",
    "\n",
    "#output is 16x5x5\n",
    "\n",
    "fc1 = fc(16*5*5,120)\n",
    "fc2 = fc(120,84)\n",
    "fc3 = fc(84,10,False)\n",
    "\n",
    "out = np.ones(10)*0.01\n",
    "\n",
    "loss_epoch = []\n",
    "\n",
    "def train(inputs):\n",
    "    \n",
    "    conv_op_1 = conv1.forward(inputs)\n",
    "    max_op_1 = max1.forward(conv_op_1)\n",
    "    conv_op_2 = conv2.forward(max_op_1)\n",
    "    max_op_2 = max2.forward(conv_op_2)\n",
    "    \n",
    "    flatten_op = max_op_2.ravel()\n",
    "    \n",
    "    fc_op_1 = fc1.forward(flatten_op)\n",
    "    fc_op_2 = fc2.forward(fc_op_1)\n",
    "    fc_op_3 = fc3.forward(fc_op_2)\n",
    "    \n",
    "    return fc_op_3\n",
    "    \n",
    "\n",
    "def backprop(gradient):\n",
    "    \n",
    "    gradient = fc3.backprop(gradient)\n",
    "    gradient = fc2.backprop(gradient)\n",
    "    gradient = fc1.backprop(gradient)\n",
    "    \n",
    "    gradient = gradient.reshape((16,5,5))\n",
    "    \n",
    "    gradient = max2.backprop(gradient)\n",
    "    gradient = conv2.backprop(gradient)\n",
    "    gradient = max1.backprop(gradient)\n",
    "    gradient = conv1.backprop(gradient)\n",
    "\n",
    "for epoch in range(5):\n",
    "    \n",
    "    loss = 0\n",
    "    \n",
    "    for i in range(train_imgs.shape[0]):\n",
    "        \n",
    "        output = train(train_imgs[i])\n",
    "        out[int(train_labels[i])] = 0.99\n",
    "        \n",
    "        if (i+1)%10 == 0 :\n",
    "            print(np.mean((output-out[int(train_labels[i])])**2))\n",
    "            \n",
    "        loss += np.mean((output-out[int(train_labels[i])])**2)\n",
    "        backprop(output-out)\n",
    "        out[int(train_labels[i])] = 0.01\n",
    "        \n",
    "        \n",
    "    loss_epoch.append(loss)\n",
    "    \n",
    "plt.plot(loss_epoch)\n",
    "plt.show()\n",
    "\n",
    "#train_imgs[1]\n",
    "#out[int(train_labels[1])] = 0.99\n",
    "#print(out)\n",
    "\n",
    "#i = 20\n",
    "\n",
    "#for epoch in range(11):\n",
    "    \n",
    "#    output = train(train_imgs[i])\n",
    "#    print(np.argmax(output))\n",
    "#    out[int(train_labels[i])] = 0.99\n",
    "#    backprop(output-out)\n",
    "#    out[int(train_labels[i])] = 0\n",
    "    "
   ]
  },
  {
   "cell_type": "code",
   "execution_count": 15,
   "metadata": {},
   "outputs": [
    {
     "data": {
      "text/plain": [
       "array([4.])"
      ]
     },
     "execution_count": 15,
     "metadata": {},
     "output_type": "execute_result"
    }
   ],
   "source": [
    "train_labels[i]"
   ]
  },
  {
   "cell_type": "code",
   "execution_count": null,
   "metadata": {},
   "outputs": [],
   "source": []
  }
 ],
 "metadata": {
  "kernelspec": {
   "display_name": "Python 3",
   "language": "python",
   "name": "python3"
  },
  "language_info": {
   "codemirror_mode": {
    "name": "ipython",
    "version": 3
   },
   "file_extension": ".py",
   "mimetype": "text/x-python",
   "name": "python",
   "nbconvert_exporter": "python",
   "pygments_lexer": "ipython3",
   "version": "3.7.3"
  }
 },
 "nbformat": 4,
 "nbformat_minor": 2
}
